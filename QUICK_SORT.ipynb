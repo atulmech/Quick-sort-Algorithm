{
 "cells": [
  {
   "cell_type": "markdown",
   "id": "eeeabd71",
   "metadata": {},
   "source": [
    "# QuickSort Algorithm"
   ]
  },
  {
   "cell_type": "code",
   "execution_count": 129,
   "id": "92dd7bd6",
   "metadata": {},
   "outputs": [],
   "source": [
    "def Partition(arr,p,q):\n",
    "    x=arr[p]\n",
    "    i=p\n",
    "    for j in range(p+1,q+1):\n",
    "        if arr[j]<=x:\n",
    "            i=i+1\n",
    "            arr[i],arr[j]=arr[j],arr[i]\n",
    "    arr[p],arr[i]=arr[i],arr[p]\n",
    "    return i "
   ]
  },
  {
   "cell_type": "code",
   "execution_count": 130,
   "id": "4ef84290",
   "metadata": {},
   "outputs": [],
   "source": [
    "def QuickSort(arr,p,q):\n",
    "    if p==q:\n",
    "        return arr[p]\n",
    "    if p<q:\n",
    "        m=Partition(arr,p,q)\n",
    "        QuickSort(arr,p,m-1)\n",
    "        QuickSort(arr,m+1,q)\n",
    "    return arr"
   ]
  },
  {
   "cell_type": "code",
   "execution_count": 131,
   "id": "4b160372",
   "metadata": {},
   "outputs": [
    {
     "data": {
      "text/plain": [
       "[19, 27, 30, 40, 50, 70, 80, 88]"
      ]
     },
     "execution_count": 131,
     "metadata": {},
     "output_type": "execute_result"
    }
   ],
   "source": [
    "arr=[50,70,80,30,40,88,19,27]\n",
    "p=0\n",
    "q=len(arr)-1\n",
    "QuickSort(arr,p,q)"
   ]
  },
  {
   "cell_type": "code",
   "execution_count": 132,
   "id": "aa55447a",
   "metadata": {},
   "outputs": [
    {
     "data": {
      "text/plain": [
       "[19, 30, 40, 40, 50, 50, 80, 80]"
      ]
     },
     "execution_count": 132,
     "metadata": {},
     "output_type": "execute_result"
    }
   ],
   "source": [
    "arr=[50,50,80,30,40,40,19,80]\n",
    "p=0\n",
    "q=len(arr)-1\n",
    "QuickSort(arr,p,q)"
   ]
  }
 ],
 "metadata": {
  "kernelspec": {
   "display_name": "Python 3",
   "language": "python",
   "name": "python3"
  },
  "language_info": {
   "codemirror_mode": {
    "name": "ipython",
    "version": 3
   },
   "file_extension": ".py",
   "mimetype": "text/x-python",
   "name": "python",
   "nbconvert_exporter": "python",
   "pygments_lexer": "ipython3",
   "version": "3.8.8"
  }
 },
 "nbformat": 4,
 "nbformat_minor": 5
}
